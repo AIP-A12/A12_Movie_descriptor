{
 "cells": [
  {
   "cell_type": "code",
   "execution_count": 5,
   "metadata": {},
   "outputs": [
    {
     "name": "stderr",
     "output_type": "stream",
     "text": [
      "[nltk_data] Downloading package punkt to C:\\Users\\Abhishek\n",
      "[nltk_data]     Singh\\AppData\\Roaming\\nltk_data...\n",
      "[nltk_data]   Package punkt is already up-to-date!\n"
     ]
    },
    {
     "data": {
      "text/plain": [
       "True"
      ]
     },
     "execution_count": 5,
     "metadata": {},
     "output_type": "execute_result"
    }
   ],
   "source": [
    "import os\n",
    "import cv2\n",
    "import torch\n",
    "import nltk\n",
    "from nltk.translate.bleu_score import sentence_bleu, SmoothingFunction\n",
    "from transformers import VisionEncoderDecoderModel, ViTFeatureExtractor, AutoTokenizer\n",
    "\n",
    "# Download NLTK data\n",
    "nltk.download('punkt')\n"
   ]
  },
  {
   "cell_type": "code",
   "execution_count": 6,
   "metadata": {},
   "outputs": [],
   "source": [
    "# Define device\n",
    "device = torch.device(\"cuda\" if torch.cuda.is_available() else \"cpu\")\n",
    "\n",
    "# Function to extract frames from video\n",
    "def extract_frames(video_path, num_frames=16):\n",
    "    frames = []\n",
    "    if not os.path.exists(video_path):\n",
    "        print(f\"Error: Video file does not exist {video_path}\")\n",
    "        return None\n",
    "    cap = cv2.VideoCapture(video_path)\n",
    "    if not cap.isOpened():\n",
    "        print(f\"Error: Could not open video {video_path}\")\n",
    "        return None\n",
    "    total_frames = int(cap.get(cv2.CAP_PROP_FRAME_COUNT))\n",
    "    interval = max(total_frames // num_frames, 1)\n",
    "    for i in range(0, total_frames, interval):\n",
    "        cap.set(cv2.CAP_PROP_POS_FRAMES, i)\n",
    "        ret, frame = cap.read()\n",
    "        if ret:\n",
    "            frame = cv2.cvtColor(frame, cv2.COLOR_BGR2RGB)\n",
    "            frames.append(cv2.resize(frame, (224, 224)))\n",
    "        if len(frames) == num_frames:\n",
    "            break\n",
    "    cap.release()\n",
    "    if len(frames) < num_frames:\n",
    "        print(f\"Warning: Video {video_path} has fewer frames than expected ({len(frames)} out of {num_frames})\")\n",
    "        return None\n",
    "    return frames\n"
   ]
  },
  {
   "cell_type": "code",
   "execution_count": 7,
   "metadata": {},
   "outputs": [
    {
     "data": {
      "text/plain": [
       "VisionEncoderDecoderModel(\n",
       "  (encoder): ViTModel(\n",
       "    (embeddings): ViTEmbeddings(\n",
       "      (patch_embeddings): ViTPatchEmbeddings(\n",
       "        (projection): Conv2d(3, 768, kernel_size=(16, 16), stride=(16, 16))\n",
       "      )\n",
       "      (dropout): Dropout(p=0.0, inplace=False)\n",
       "    )\n",
       "    (encoder): ViTEncoder(\n",
       "      (layer): ModuleList(\n",
       "        (0-11): 12 x ViTLayer(\n",
       "          (attention): ViTAttention(\n",
       "            (attention): ViTSelfAttention(\n",
       "              (query): Linear(in_features=768, out_features=768, bias=True)\n",
       "              (key): Linear(in_features=768, out_features=768, bias=True)\n",
       "              (value): Linear(in_features=768, out_features=768, bias=True)\n",
       "              (dropout): Dropout(p=0.0, inplace=False)\n",
       "            )\n",
       "            (output): ViTSelfOutput(\n",
       "              (dense): Linear(in_features=768, out_features=768, bias=True)\n",
       "              (dropout): Dropout(p=0.0, inplace=False)\n",
       "            )\n",
       "          )\n",
       "          (intermediate): ViTIntermediate(\n",
       "            (dense): Linear(in_features=768, out_features=3072, bias=True)\n",
       "            (intermediate_act_fn): GELUActivation()\n",
       "          )\n",
       "          (output): ViTOutput(\n",
       "            (dense): Linear(in_features=3072, out_features=768, bias=True)\n",
       "            (dropout): Dropout(p=0.0, inplace=False)\n",
       "          )\n",
       "          (layernorm_before): LayerNorm((768,), eps=1e-12, elementwise_affine=True)\n",
       "          (layernorm_after): LayerNorm((768,), eps=1e-12, elementwise_affine=True)\n",
       "        )\n",
       "      )\n",
       "    )\n",
       "    (layernorm): LayerNorm((768,), eps=1e-12, elementwise_affine=True)\n",
       "    (pooler): ViTPooler(\n",
       "      (dense): Linear(in_features=768, out_features=768, bias=True)\n",
       "      (activation): Tanh()\n",
       "    )\n",
       "  )\n",
       "  (decoder): GPT2LMHeadModel(\n",
       "    (transformer): GPT2Model(\n",
       "      (wte): Embedding(50257, 768)\n",
       "      (wpe): Embedding(1024, 768)\n",
       "      (drop): Dropout(p=0.1, inplace=False)\n",
       "      (h): ModuleList(\n",
       "        (0-11): 12 x GPT2Block(\n",
       "          (ln_1): LayerNorm((768,), eps=1e-05, elementwise_affine=True)\n",
       "          (attn): GPT2Attention(\n",
       "            (c_attn): Conv1D()\n",
       "            (c_proj): Conv1D()\n",
       "            (attn_dropout): Dropout(p=0.1, inplace=False)\n",
       "            (resid_dropout): Dropout(p=0.1, inplace=False)\n",
       "          )\n",
       "          (ln_2): LayerNorm((768,), eps=1e-05, elementwise_affine=True)\n",
       "          (crossattention): GPT2Attention(\n",
       "            (c_attn): Conv1D()\n",
       "            (q_attn): Conv1D()\n",
       "            (c_proj): Conv1D()\n",
       "            (attn_dropout): Dropout(p=0.1, inplace=False)\n",
       "            (resid_dropout): Dropout(p=0.1, inplace=False)\n",
       "          )\n",
       "          (ln_cross_attn): LayerNorm((768,), eps=1e-05, elementwise_affine=True)\n",
       "          (mlp): GPT2MLP(\n",
       "            (c_fc): Conv1D()\n",
       "            (c_proj): Conv1D()\n",
       "            (act): NewGELUActivation()\n",
       "            (dropout): Dropout(p=0.1, inplace=False)\n",
       "          )\n",
       "        )\n",
       "      )\n",
       "      (ln_f): LayerNorm((768,), eps=1e-05, elementwise_affine=True)\n",
       "    )\n",
       "    (lm_head): Linear(in_features=768, out_features=50257, bias=False)\n",
       "  )\n",
       ")"
      ]
     },
     "execution_count": 7,
     "metadata": {},
     "output_type": "execute_result"
    }
   ],
   "source": [
    "# Load the fine-tuned model, tokenizer, and feature extractor\n",
    "model_save_path = 'copy_fine_tuned_vit_gpt2'\n",
    "model = VisionEncoderDecoderModel.from_pretrained(model_save_path)\n",
    "feature_extractor = ViTFeatureExtractor.from_pretrained(model_save_path)\n",
    "tokenizer = AutoTokenizer.from_pretrained(model_save_path)\n",
    "model.to(device)\n",
    "model.eval()"
   ]
  },
  {
   "cell_type": "code",
   "execution_count": 30,
   "metadata": {},
   "outputs": [
    {
     "name": "stdout",
     "output_type": "stream",
     "text": [
      "Generated Caption: A beautiful young girl in the field with her hands in the air. beautiful girl in the field\n"
     ]
    }
   ],
   "source": [
    "from transformers import VisionEncoderDecoderModel, ViTFeatureExtractor, AutoTokenizer\n",
    "# Load fine-tuned model\n",
    "model_save_path = 'fine_tuned_vit_gpt2'\n",
    "model = VisionEncoderDecoderModel.from_pretrained(model_save_path)\n",
    "feature_extractor = ViTFeatureExtractor.from_pretrained(model_save_path)\n",
    "tokenizer = AutoTokenizer.from_pretrained(model_save_path)\n",
    "device = torch.device(\"cuda\" if torch.cuda.is_available() else \"cpu\")\n",
    "\n",
    "model.to(device)\n",
    "model.eval()\n",
    "\n",
    "def generate_caption(model, feature_extractor, tokenizer, frames):\n",
    "    inputs = feature_extractor(images=frames, return_tensors=\"pt\")\n",
    "    pixel_values = inputs.pixel_values.to(device)\n",
    "    output_ids = model.generate(pixel_values)\n",
    "    caption = tokenizer.decode(output_ids[0], skip_special_tokens=True)\n",
    "    return caption\n",
    "\n",
    "# Example usage:\n",
    "video_path = 'videos_1000/1033277738.mp4'   \n",
    "frames = extract_frames(video_path)\n",
    "if frames:\n",
    "    caption = generate_caption(model, feature_extractor, tokenizer, frames)\n",
    "    print(f\"Generated Caption: {caption}\")\n",
    "else:\n",
    "    print(\"Could not generate caption due to insufficient frames or read error.\")"
   ]
  },
  {
   "cell_type": "code",
   "execution_count": 31,
   "metadata": {},
   "outputs": [],
   "source": [
    "# %% Custom BLEU score calculation without using Fraction\n",
    "from nltk.util import ngrams\n",
    "from collections import Counter\n",
    "import math\n",
    "\n",
    "def custom_bleu(reference, candidate, weights=(0.25, 0.25, 0.25, 0.25)):\n",
    "    p_numerators = [0] * len(weights)\n",
    "    p_denominators = [0] * len(weights)\n",
    "    \n",
    "    for i, weight in enumerate(weights, start=1):\n",
    "        ref_ngrams = Counter(ngrams(reference, i))\n",
    "        can_ngrams = Counter(ngrams(candidate, i))\n",
    "        \n",
    "        p_numerators[i - 1] = sum((can_ngrams & ref_ngrams).values())\n",
    "        p_denominators[i - 1] = max(1, sum(can_ngrams.values()))\n",
    "    \n",
    "    p_n = [num / den if den > 0 else 0 for num, den in zip(p_numerators, p_denominators)]\n",
    "    \n",
    "    if min(p_n) > 0:\n",
    "        score = math.exp(sum([w * math.log(p_n_i) for w, p_n_i in zip(weights, p_n)]))\n",
    "    else:\n",
    "        score = 0\n",
    "    \n",
    "    bp = math.exp(1 - max(1.0, len(reference) / len(candidate)))\n",
    "    \n",
    "    return bp * score\n",
    "\n",
    "# %% Function to evaluate model using BLEU score\n",
    "def evaluate_model(model, feature_extractor, tokenizer, video_paths, actual_captions, device):\n",
    "    model.eval()\n",
    "    total_bleu_score = 0\n",
    "    \n",
    "    for video_path, true_caption in zip(video_paths, actual_captions):\n",
    "        frames = extract_frames(video_path)\n",
    "        if frames:\n",
    "            generated_caption = generate_caption(model, feature_extractor, tokenizer, frames)\n",
    "            reference = true_caption.split()\n",
    "            gen_caption = generated_caption.split()\n",
    "            \n",
    "            # Print generated and reference captions for debugging\n",
    "            print(f\"Reference: {reference}\")\n",
    "            print(f\"generated_caption: {gen_caption}\")\n",
    "            \n",
    "            bleu_score = custom_bleu(reference, gen_caption)\n",
    "            total_bleu_score += bleu_score\n",
    "    \n",
    "    if len(video_paths) > 0:\n",
    "        avg_bleu_score = total_bleu_score / len(video_paths)\n",
    "    else:\n",
    "        avg_bleu_score = 0\n",
    "    return avg_bleu_score\n"
   ]
  },
  {
   "cell_type": "code",
   "execution_count": 33,
   "metadata": {},
   "outputs": [
    {
     "name": "stdout",
     "output_type": "stream",
     "text": [
      "Reference: ['Happy', 'girl', 'in', 'short', 'skirt', 'runs', 'skipping', 'in', 'wheat', 'field', 'at', 'sunset.', 'concept', 'of', 'freedom.']\n",
      "generated_caption: ['A', 'beautiful', 'young', 'girl', 'in', 'the', 'field', 'with', 'her', 'hands', 'in', 'the', 'air.', 'beautiful', 'girl', 'in', 'the', 'field']\n",
      "Average BLEU Score: 0.0\n"
     ]
    }
   ],
   "source": [
    "# Example usage:\n",
    "video_paths = ['videos_1000/1033277738.mp4']  # Add more paths as needed\n",
    "actual_captions = [\"Happy girl in short skirt runs skipping in wheat field at sunset. concept of freedom.\"]  # actual captions\n",
    "avg_bleu_score = evaluate_model(model, feature_extractor, tokenizer, video_paths, actual_captions, device)\n",
    "print(f'Average BLEU Score: {avg_bleu_score}')"
   ]
  },
  {
   "cell_type": "code",
   "execution_count": null,
   "metadata": {},
   "outputs": [],
   "source": []
  },
  {
   "cell_type": "code",
   "execution_count": null,
   "metadata": {},
   "outputs": [],
   "source": []
  }
 ],
 "metadata": {
  "kernelspec": {
   "display_name": "Python 3",
   "language": "python",
   "name": "python3"
  },
  "language_info": {
   "codemirror_mode": {
    "name": "ipython",
    "version": 3
   },
   "file_extension": ".py",
   "mimetype": "text/x-python",
   "name": "python",
   "nbconvert_exporter": "python",
   "pygments_lexer": "ipython3",
   "version": "3.12.4"
  }
 },
 "nbformat": 4,
 "nbformat_minor": 2
}
